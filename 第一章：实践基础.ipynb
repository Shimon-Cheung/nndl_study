﻿{
 "cells": [
  {
   "cell_type": "markdown",
   "source": [
    "## 张量的概念\n",
    "张量的大小可以用形状（shape）来描述。比如一个三维张量的形状是 [2,2,5][2, 2, 5][2,2,5]，表示每一维（也称为轴（axis））的元素的数量，即第0轴上元素数量是2，第1轴上元素数量是2，第2轴上的元素数量为5。\n",
    "\n",
    "图1.5给出了3种纬度的张量可视化表示。\n",
    "<img src=\"images/fcdd500471b842a4811bd7ab3f724ab4b9226fc94bf446818904e59ce1bb6e00.png\" width=\"1200\"/>\n"
   ],
   "metadata": {
    "collapsed": false,
    "pycharm": {
     "name": "#%% md\n"
    }
   }
  },
  {
   "cell_type": "markdown",
   "source": [],
   "metadata": {
    "collapsed": false,
    "pycharm": {
     "name": "#%% md\n"
    }
   }
  },
  {
   "cell_type": "markdown",
   "source": [
    "- 一个数字的叫标量：1\n",
    "- 一维数组的叫向量：[1]\n",
    "- 二维数组的叫矩阵：[2,3]\n",
    "- 三维数组的叫张量：[2,2,3]"
   ],
   "metadata": {
    "collapsed": false,
    "pycharm": {
     "name": "#%% md\n"
    }
   }
  },
  {
   "cell_type": "markdown",
   "source": [
    "## 创建张量"
   ],
   "metadata": {
    "collapsed": false,
    "pycharm": {
     "name": "#%% md\n"
    }
   }
  },
  {
   "cell_type": "markdown",
   "source": [
    "创建一个张量可以有多种方式，如：指定数据创建、指定形状创建、指定区间创建等。"
   ],
   "metadata": {
    "collapsed": false,
    "pycharm": {
     "name": "#%% md\n"
    }
   }
  },
  {
   "cell_type": "code",
   "execution_count": 7,
   "outputs": [
    {
     "data": {
      "text/plain": "1"
     },
     "execution_count": 7,
     "metadata": {},
     "output_type": "execute_result"
    }
   ],
   "source": [
    "import paddle # 导入paddle库\n",
    "\n",
    "tensor_1 = paddle.to_tensor(data=[2,3,4],dtype=paddle.float32) # 创建一维tenser，也就是向量\n",
    "tensor_1.ndim # 打印对应的维度"
   ],
   "metadata": {
    "collapsed": false,
    "pycharm": {
     "name": "#%%\n"
    }
   }
  },
  {
   "cell_type": "code",
   "execution_count": 8,
   "outputs": [
    {
     "data": {
      "text/plain": "2"
     },
     "execution_count": 8,
     "metadata": {},
     "output_type": "execute_result"
    }
   ],
   "source": [
    "tensor_2 = paddle.to_tensor(data=[[1,2,3],[4,5,6]],dtype=paddle.float32) # 创建二维tensor，也就是矩阵\n",
    "tensor_2.ndim"
   ],
   "metadata": {
    "collapsed": false,
    "pycharm": {
     "name": "#%%\n"
    }
   }
  },
  {
   "cell_type": "code",
   "execution_count": 9,
   "outputs": [
    {
     "data": {
      "text/plain": "3"
     },
     "execution_count": 9,
     "metadata": {},
     "output_type": "execute_result"
    }
   ],
   "source": [
    "tensor_3 = paddle.to_tensor(data=[\n",
    "    [[1,2,3],[4,5,6]],\n",
    "    [[1,2,3],[4,5,6]]\n",
    "],dtype=paddle.float32) # 创建三维tensor，也就是张量\n",
    "tensor_3.ndim"
   ],
   "metadata": {
    "collapsed": false,
    "pycharm": {
     "name": "#%%\n"
    }
   }
  },
  {
   "cell_type": "code",
   "execution_count": 10,
   "outputs": [
    {
     "data": {
      "text/plain": "Tensor(shape=[2, 3, 2], dtype=float32, place=Place(cpu), stop_gradient=True,\n       [[[1., 2.],\n         [3., 4.],\n         [5., 6.]],\n\n        [[1., 2.],\n         [3., 4.],\n         [5., 6.]]])"
     },
     "execution_count": 10,
     "metadata": {},
     "output_type": "execute_result"
    }
   ],
   "source": [
    "tensor_4 = paddle.reshape(x=tensor_3,shape=(2,3,2))# 也可以通过shape对别人的tensor进行转换\n",
    "tensor_4"
   ],
   "metadata": {
    "collapsed": false,
    "pycharm": {
     "name": "#%%\n"
    }
   }
  },
  {
   "cell_type": "markdown",
   "source": [
    "### 指定形状创建，通过飞桨内部自带的一些函数创建"
   ],
   "metadata": {
    "collapsed": false,
    "pycharm": {
     "name": "#%% md\n"
    }
   }
  },
  {
   "cell_type": "code",
   "execution_count": 11,
   "outputs": [
    {
     "data": {
      "text/plain": "Tensor(shape=[2, 2, 4], dtype=int32, place=Place(cpu), stop_gradient=True,\n       [[[0, 0, 0, 0],\n         [0, 0, 0, 0]],\n\n        [[0, 0, 0, 0],\n         [0, 0, 0, 0]]])"
     },
     "execution_count": 11,
     "metadata": {},
     "output_type": "execute_result"
    }
   ],
   "source": [
    "# 创建全是 0 的tenosr\n",
    "tensor_all_zero = paddle.zeros(shape=(2,2,4),dtype=paddle.int32)\n",
    "tensor_all_zero"
   ],
   "metadata": {
    "collapsed": false,
    "pycharm": {
     "name": "#%%\n"
    }
   }
  },
  {
   "cell_type": "code",
   "execution_count": 12,
   "outputs": [
    {
     "data": {
      "text/plain": "Tensor(shape=[2, 2, 4], dtype=int32, place=Place(cpu), stop_gradient=True,\n       [[[1, 1, 1, 1],\n         [1, 1, 1, 1]],\n\n        [[1, 1, 1, 1],\n         [1, 1, 1, 1]]])"
     },
     "execution_count": 12,
     "metadata": {},
     "output_type": "execute_result"
    }
   ],
   "source": [
    "# 创建全是 1 的tenosr\n",
    "tensor_all_one = paddle.ones(shape=(2,2,4),dtype=paddle.int32)\n",
    "tensor_all_one"
   ],
   "metadata": {
    "collapsed": false,
    "pycharm": {
     "name": "#%%\n"
    }
   }
  },
  {
   "cell_type": "code",
   "execution_count": 13,
   "outputs": [
    {
     "data": {
      "text/plain": "Tensor(shape=[2, 3], dtype=int32, place=Place(cpu), stop_gradient=True,\n       [[10, 10, 10],\n        [10, 10, 10]])"
     },
     "execution_count": 13,
     "metadata": {},
     "output_type": "execute_result"
    }
   ],
   "source": [
    "# 使用paddle.full创建数据全为指定值，形状为[m, n]的Tensor，这里我们指定数据为10\n",
    "full_Tensor = paddle.full(shape=[2, 3], fill_value=10,dtype=paddle.int32)\n",
    "full_Tensor"
   ],
   "metadata": {
    "collapsed": false,
    "pycharm": {
     "name": "#%%\n"
    }
   }
  },
  {
   "cell_type": "markdown",
   "source": [
    "### 指定区间创建tensor"
   ],
   "metadata": {
    "collapsed": false,
    "pycharm": {
     "name": "#%% md\n"
    }
   }
  },
  {
   "cell_type": "code",
   "execution_count": 14,
   "outputs": [
    {
     "data": {
      "text/plain": "Tensor(shape=[2], dtype=int64, place=Place(cpu), stop_gradient=True,\n       [1, 3])"
     },
     "execution_count": 14,
     "metadata": {},
     "output_type": "execute_result"
    }
   ],
   "source": [
    "# 使用paddle.arange创建以步长step均匀分隔数值区间[start, end)的一维Tensor\n",
    "arange_Tensor = paddle.arange(start=1, end=5, step=2)\n",
    "arange_Tensor"
   ],
   "metadata": {
    "collapsed": false,
    "pycharm": {
     "name": "#%%\n"
    }
   }
  },
  {
   "cell_type": "markdown",
   "source": [
    "### 张量的属性\n",
    "- `Tensor.ndim`：张量的维度，例如向量的维度为1，矩阵的维度为2。\n",
    "- `Tensor.shape`： 张量每个维度上元素的数量。\n",
    "- `Tensor.shape[n]`：张量第nnn维的大小。第nnn维也称为轴（axis）。\n",
    "- `Tensor.size`：张量中全部元素的个数。\n",
    "为了更好地理解ndim、shape、axis、size四种属性间的区别，创建一个如图1.6所示的四维张量。\n",
    "<img src=\"images/d8461ef0994549a98c1b253f2a31fe60edb7bb200b964b43a9c25818f22a31c6.png\" width=\"1200\"/>"
   ],
   "metadata": {
    "collapsed": false,
    "pycharm": {
     "name": "#%% md\n"
    }
   }
  },
  {
   "cell_type": "code",
   "execution_count": 15,
   "outputs": [
    {
     "name": "stdout",
     "output_type": "stream",
     "text": [
      "Number of dimensions: 4\n",
      "Shape of Tensor: [2, 3, 4, 5]\n",
      "Elements number along axis 0 of Tensor: 2\n",
      "Elements number along the last axis of Tensor: 5\n",
      "Number of elements in Tensor:  120\n"
     ]
    }
   ],
   "source": [
    "ndim_4_Tensor = paddle.ones(shape=[2, 3, 4, 5],dtype=paddle.int32)\n",
    "\n",
    "print(\"Number of dimensions:\", ndim_4_Tensor.ndim)\n",
    "print(\"Shape of Tensor:\", ndim_4_Tensor.shape)\n",
    "print(\"Elements number along axis 0 of Tensor:\", ndim_4_Tensor.shape[0])\n",
    "print(\"Elements number along the last axis of Tensor:\", ndim_4_Tensor.shape[-1])\n",
    "print('Number of elements in Tensor: ', ndim_4_Tensor.size)"
   ],
   "metadata": {
    "collapsed": false,
    "pycharm": {
     "name": "#%%\n"
    }
   }
  },
  {
   "cell_type": "markdown",
   "source": [
    "### 张量与Numpy数组转换"
   ],
   "metadata": {
    "collapsed": false,
    "pycharm": {
     "name": "#%% md\n"
    }
   }
  },
  {
   "cell_type": "code",
   "execution_count": 16,
   "outputs": [
    {
     "name": "stdout",
     "output_type": "stream",
     "text": [
      "Tensor to convert:  [1. 2.]\n"
     ]
    }
   ],
   "source": [
    "ndim_1_Tensor = paddle.to_tensor([1., 2.])\n",
    "# 将当前 Tensor 转化为 numpy.ndarray\n",
    "print('Tensor to convert: ', ndim_1_Tensor.numpy())"
   ],
   "metadata": {
    "collapsed": false,
    "pycharm": {
     "name": "#%%\n"
    }
   }
  },
  {
   "cell_type": "markdown",
   "source": [
    "## 数学运算"
   ],
   "metadata": {
    "collapsed": false,
    "pycharm": {
     "name": "#%% md\n"
    }
   }
  },
  {
   "cell_type": "markdown",
   "source": [
    "张量类的基础数学函数如下：\n",
    "```\n",
    "x.abs()                       # 逐元素取绝对值\n",
    "x.ceil()                      # 逐元素向上取整\n",
    "x.floor()                     # 逐元素向下取整\n",
    "x.round()                     # 逐元素四舍五入\n",
    "x.exp()                       # 逐元素计算自然常数为底的指数\n",
    "x.log()                       # 逐元素计算x的自然对数\n",
    "x.reciprocal()                # 逐元素求倒数\n",
    "x.square()                    # 逐元素计算平方\n",
    "x.sqrt()                      # 逐元素计算平方根\n",
    "x.sin()                       # 逐元素计算正弦\n",
    "x.cos()                       # 逐元素计算余弦\n",
    "x.add(y)                      # 逐元素加\n",
    "x.subtract(y)                 # 逐元素减\n",
    "x.multiply(y)                 # 逐元素乘（积）\n",
    "x.divide(y)                   # 逐元素除\n",
    "x.mod(y)                      # 逐元素除并取余\n",
    "x.pow(y)                      # 逐元素幂\n",
    "x.max()                       # 指定维度上元素最大值，默认为全部维度\n",
    "x.min()                       # 指定维度上元素最小值，默认为全部维度\n",
    "x.prod()                      # 指定维度上元素累乘，默认为全部维度\n",
    "x.sum()                       # 指定维度上元素的和，默认为全部维度\n",
    "```\n",
    "同时，为了更方便地使用张量，飞桨对Python数学运算相关的魔法函数进行了重写，以下操作与上述结果相同。\n",
    "```\n",
    "x + y  -> x.add(y)            # 逐元素加\n",
    "x - y  -> x.subtract(y)       # 逐元素减\n",
    "x * y  -> x.multiply(y)       # 逐元素乘（积）\n",
    "x / y  -> x.divide(y)         # 逐元素除\n",
    "x % y  -> x.mod(y)            # 逐元素除并取余\n",
    "x ** y -> x.pow(y)            # 逐元素幂\n",
    "```\n",
    "张量类的逻辑运算函数如下：\n",
    "```\n",
    "x.isfinite()                  # 判断Tensor中元素是否是有限的数字，即不包括inf与nan\n",
    "x.equal_all(y)                # 判断两个Tensor的全部元素是否相等，并返回形状为[1]的布尔类Tensor\n",
    "x.equal(y)                    # 判断两个Tensor的每个元素是否相等，并返回形状相同的布尔类Tensor\n",
    "x.not_equal(y)                # 判断两个Tensor的每个元素是否不相等\n",
    "x.less_than(y)                # 判断Tensor x的元素是否小于Tensor y的对应元素\n",
    "x.less_equal(y)               # 判断Tensor x的元素是否小于或等于Tensor y的对应元素\n",
    "x.greater_than(y)             # 判断Tensor x的元素是否大于Tensor y的对应元素\n",
    "x.greater_equal(y)            # 判断Tensor x的元素是否大于或等于Tensor y的对应元素\n",
    "x.allclose(y)                 # 判断两个Tensor的全部元素是否接近\n",
    "```\n",
    "矩阵运算\n",
    "```\n",
    "x.t()                         # 矩阵转置\n",
    "x.transpose([1, 0])           # 交换第 0 维与第 1 维的顺序\n",
    "x.norm('fro')                 # 矩阵的弗罗贝尼乌斯范数\n",
    "x.dist(y, p=2)                # 矩阵（x-y）的2范数\n",
    "x.matmul(y)                   # 矩阵乘法\n",
    "```"
   ],
   "metadata": {
    "collapsed": false,
    "pycharm": {
     "name": "#%% md\n"
    }
   }
  },
  {
   "cell_type": "markdown",
   "source": [
    "## 广播机制\n",
    "广播机制的条件\n",
    "飞桨的广播机制主要遵循如下规则（参考Numpy广播机制）：\n",
    "1）每个张量至少为一维张量。\n",
    "2）从后往前比较张量的形状，当前维度的大小要么相等，要么其中一个等于1，要么其中一个不存在。"
   ],
   "metadata": {
    "collapsed": false,
    "pycharm": {
     "name": "#%% md\n"
    }
   }
  },
  {
   "cell_type": "code",
   "execution_count": 17,
   "outputs": [
    {
     "name": "stdout",
     "output_type": "stream",
     "text": [
      "broadcasting with two same shape tensor:  [2, 3, 4]\n",
      "Tensor(shape=[2, 3, 4], dtype=float32, place=Place(cpu), stop_gradient=True,\n",
      "       [[[2., 2., 2., 2.],\n",
      "         [2., 2., 2., 2.],\n",
      "         [2., 2., 2., 2.]],\n",
      "\n",
      "        [[2., 2., 2., 2.],\n",
      "         [2., 2., 2., 2.],\n",
      "         [2., 2., 2., 2.]]])\n"
     ]
    }
   ],
   "source": [
    "# 当两个Tensor的形状一致时，可以广播\n",
    "x = paddle.ones((2, 3, 4))\n",
    "y = paddle.ones((2, 3, 4))\n",
    "z = x + y\n",
    "print('broadcasting with two same shape tensor: ', z.shape)\n",
    "print(z)"
   ],
   "metadata": {
    "collapsed": false,
    "pycharm": {
     "name": "#%%\n"
    }
   }
  },
  {
   "cell_type": "code",
   "execution_count": 18,
   "outputs": [
    {
     "name": "stdout",
     "output_type": "stream",
     "text": [
      "broadcasting with two different shape tensor: [2, 3, 4, 5]\n",
      "Tensor(shape=[2, 3, 4, 5], dtype=float32, place=Place(cpu), stop_gradient=True,\n",
      "       [[[[2., 2., 2., 2., 2.],\n",
      "          [2., 2., 2., 2., 2.],\n",
      "          [2., 2., 2., 2., 2.],\n",
      "          [2., 2., 2., 2., 2.]],\n",
      "\n",
      "         [[2., 2., 2., 2., 2.],\n",
      "          [2., 2., 2., 2., 2.],\n",
      "          [2., 2., 2., 2., 2.],\n",
      "          [2., 2., 2., 2., 2.]],\n",
      "\n",
      "         [[2., 2., 2., 2., 2.],\n",
      "          [2., 2., 2., 2., 2.],\n",
      "          [2., 2., 2., 2., 2.],\n",
      "          [2., 2., 2., 2., 2.]]],\n",
      "\n",
      "\n",
      "        [[[2., 2., 2., 2., 2.],\n",
      "          [2., 2., 2., 2., 2.],\n",
      "          [2., 2., 2., 2., 2.],\n",
      "          [2., 2., 2., 2., 2.]],\n",
      "\n",
      "         [[2., 2., 2., 2., 2.],\n",
      "          [2., 2., 2., 2., 2.],\n",
      "          [2., 2., 2., 2., 2.],\n",
      "          [2., 2., 2., 2., 2.]],\n",
      "\n",
      "         [[2., 2., 2., 2., 2.],\n",
      "          [2., 2., 2., 2., 2.],\n",
      "          [2., 2., 2., 2., 2.],\n",
      "          [2., 2., 2., 2., 2.]]]])\n"
     ]
    }
   ],
   "source": [
    "j = paddle.ones((2, 3, 1, 5))\n",
    "k = paddle.ones((3, 4, 1))\n",
    "# 从后往前依次比较：只要有一个是1，或者相等即可，没有的补1\n",
    "# j 2  3  1  5\n",
    "# k 1  3  4  1\n",
    "p = j + k\n",
    "print('broadcasting with two different shape tensor:', p.shape)\n",
    "print(p)"
   ],
   "metadata": {
    "collapsed": false,
    "pycharm": {
     "name": "#%%\n"
    }
   }
  },
  {
   "cell_type": "markdown",
   "source": [
    "## 算子定义\n",
    "算子是构建复杂机器学习模型的基础组件，包含一个函数f(x)f(x)f(x)的前向函数和反向函数。"
   ],
   "metadata": {
    "collapsed": false,
    "pycharm": {
     "name": "#%% md\n"
    }
   }
  },
  {
   "cell_type": "code",
   "execution_count": 19,
   "outputs": [],
   "source": [
    "class Op(object):\n",
    "    # 定义一个算子模型类\n",
    "    def __init__(self):\n",
    "        pass\n",
    "\n",
    "    def __call__(self, *args,**kwargs):\n",
    "        # 当直接op()调用的就是__call__方法\n",
    "        raise NotImplementedError\n",
    "\n",
    "    def forward(self,*args,**kwargs):\n",
    "        # 前向计算，返回输出，这个必须子类进行重写\n",
    "        raise NotImplementedError\n",
    "\n",
    "    def backward(self, *args,**kwargs):\n",
    "        # 反向传播，计算梯度，这个必须子类进行重写\n",
    "        raise NotImplementedError\n"
   ],
   "metadata": {
    "collapsed": false,
    "pycharm": {
     "name": "#%%\n"
    }
   }
  },
  {
   "cell_type": "markdown",
   "source": [
    "### 加法算子\n",
    "<img src=\"images/308b6d78396b4db0a3df548dcb4de971900d90bdc34a481b9211260cd25c9377.png\" width=\"1200\"/>"
   ],
   "metadata": {
    "collapsed": false,
    "pycharm": {
     "name": "#%% md\n"
    }
   }
  },
  {
   "cell_type": "code",
   "execution_count": 25,
   "outputs": [],
   "source": [
    "class add(Op):\n",
    "    # 定义一个加法算子\n",
    "    def __init__(self):\n",
    "         # 初始化父类init方法\n",
    "        super(add, self).__init__()\n",
    "\n",
    "    def __call__(self, x, y):\n",
    "        # 定义call方法\n",
    "        return self.forward(x, y)\n",
    "\n",
    "    def forward(self,x, y):\n",
    "        # 定义向前add计算逻辑\n",
    "        self.x = x\n",
    "        self.y = y\n",
    "        outputs = x + y\n",
    "        return outputs\n",
    "\n",
    "    def backward(self, grads):\n",
    "        # 定义反向传播梯度计算\n",
    "        grads_x = grads * 1\n",
    "        grads_y = grads * 1\n",
    "        return grads_x, grads_y\n"
   ],
   "metadata": {
    "collapsed": false,
    "pycharm": {
     "name": "#%%\n"
    }
   }
  },
  {
   "cell_type": "code",
   "execution_count": 26,
   "outputs": [
    {
     "name": "stdout",
     "output_type": "stream",
     "text": [
      "x's grad is:  1\n",
      "y's grad is:  1\n"
     ]
    }
   ],
   "source": [
    "# 定义x=1、y=4，根据反向计算，得到x、y的梯度。\n",
    "x = 1\n",
    "y = 4\n",
    "add_op = add()\n",
    "z = add_op(x, y)\n",
    "grads_x, grads_y = add_op.backward(grads=1)\n",
    "print(\"x's grad is: \", grads_x)\n",
    "print(\"y's grad is: \", grads_y)"
   ],
   "metadata": {
    "collapsed": false,
    "pycharm": {
     "name": "#%%\n"
    }
   }
  },
  {
   "cell_type": "markdown",
   "source": [
    "### 本书使用的算子介绍\n",
    "<img src=\"images/5bc27443b5ab4df99c7578f75ea973e84cab41d1caf949bea84af0b814325621.png\" width=\"1200\"/>\n",
    "<img src=\"images/cd5e251e1b9c4f37888af85b4ee9386ffc65fca2d4f4473a8f6adc14e1e3238d.png\" width=\"1200\"/>"
   ],
   "metadata": {
    "collapsed": false,
    "pycharm": {
     "name": "#%% md\n"
    }
   }
  },
  {
   "cell_type": "markdown",
   "source": [
    "### 本书中实现的优化器\n",
    "<img src=\"images/085004d14449417392350eec7404219a803444b4e49b4bbc963bdae4f59d2fcb.png\" width=\"1200\"/>"
   ],
   "metadata": {
    "collapsed": false,
    "pycharm": {
     "name": "#%% md\n"
    }
   }
  },
  {
   "cell_type": "markdown",
   "source": [
    "### Dataset类\n",
    "<img src=\"images/a7fe6d71b8754f5a80bfbd44639508a64024972f4af14c609e4bebf0f2e0d21c.png\" width=\"1200\"/>"
   ],
   "metadata": {
    "collapsed": false,
    "pycharm": {
     "name": "#%% md\n"
    }
   }
  },
  {
   "cell_type": "markdown",
   "source": [
    "## Runner类\n",
    "- RunnerV1：在第2节中实现，用于线性回归模型的训练，其中训练过程通过直接求解解析解的方式得到模型参数，没有模型优化及计算损失函数过程，模型训练结束后保存模型参数。\n",
    "- RunnerV2：在第3.1.6节中实现。RunnerV2主要增加的功能为：\n",
    "    - 在训练过程引入梯度下降法进行模型优化；\n",
    "    - 模型训练过程中计算在训练集和验证集上的损失及评价指标并打印，训练过程中保存最优模型。我们在第4.3.2节和第4.3.2节分别对RunnerV2进行了完善，加入自定义日志输出、模型阶段控制等功能。\n",
    "- RunnerV3：在第4.5.4节中实现。RunnerV3主要增加三个功能：使用随机梯度下降法进行参数优化；训练过程使用DataLoader加载批量数据；模型加载与保存中，模型参数使用state_dict方法获取，使用state_dict加载。"
   ],
   "metadata": {
    "collapsed": false,
    "pycharm": {
     "name": "#%% md\n"
    }
   }
  }
 ],
 "metadata": {
  "kernelspec": {
   "display_name": "Python 3",
   "language": "python",
   "name": "python3"
  },
  "language_info": {
   "codemirror_mode": {
    "name": "ipython",
    "version": 2
   },
   "file_extension": ".py",
   "mimetype": "text/x-python",
   "name": "python",
   "nbconvert_exporter": "python",
   "pygments_lexer": "ipython2",
   "version": "2.7.6"
  }
 },
 "nbformat": 4,
 "nbformat_minor": 0
}